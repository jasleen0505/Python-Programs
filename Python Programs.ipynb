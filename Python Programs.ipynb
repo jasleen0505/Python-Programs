{
 "cells": [
  {
   "cell_type": "code",
   "execution_count": 9,
   "id": "2bc432fc",
   "metadata": {},
   "outputs": [
    {
     "name": "stdout",
     "output_type": "stream",
     "text": [
      "Enter a number 453\n",
      "<class 'int'>\n",
      "The no. on 0 index is 4, The no. on 1st index is 5, The number on 2nd index is 3\n"
     ]
    }
   ],
   "source": [
    "value = input(\"Enter a number \")\n",
    "value = int(value)\n",
    "print(type(value))\n",
    "if(value>60):\n",
    "    x=value//100\n",
    "    value=value%100\n",
    "    y=value//10\n",
    "    z=value%10\n",
    "    print(f\"The no. on 0 index is {x}, The no. on 1st index is {y}, The number on 2nd index is {z}\")\n",
    "else:\n",
    "    print(\"Less than 60\")"
   ]
  },
  {
   "cell_type": "code",
   "execution_count": 10,
   "id": "2dd9c8a6",
   "metadata": {},
   "outputs": [
    {
     "name": "stdout",
     "output_type": "stream",
     "text": [
      "5\n",
      "7\n",
      "9\n"
     ]
    }
   ],
   "source": [
    "for num in range(5,10,2):\n",
    "    print(num)"
   ]
  },
  {
   "cell_type": "code",
   "execution_count": 11,
   "id": "7def1cb9",
   "metadata": {},
   "outputs": [
    {
     "name": "stdout",
     "output_type": "stream",
     "text": [
      "P\n",
      "y\n",
      "t\n",
      "h\n",
      "o\n",
      "n\n"
     ]
    }
   ],
   "source": [
    "for i in \"Python\":\n",
    "    print(i)"
   ]
  },
  {
   "cell_type": "code",
   "execution_count": 12,
   "id": "1d4c208b",
   "metadata": {},
   "outputs": [
    {
     "name": "stdout",
     "output_type": "stream",
     "text": [
      "0 0\n",
      "0 1\n",
      "0 2\n",
      "1 0\n",
      "1 1\n",
      "1 2\n",
      "2 0\n",
      "2 1\n",
      "2 2\n"
     ]
    }
   ],
   "source": [
    "for outerValue in range(0,3):\n",
    "    \n",
    "    for innerValue in range(0,3):\n",
    "        print(outerValue, innerValue)\n"
   ]
  },
  {
   "cell_type": "code",
   "execution_count": 14,
   "id": "1fa4aba4",
   "metadata": {},
   "outputs": [
    {
     "name": "stdout",
     "output_type": "stream",
     "text": [
      "1 \n",
      "1 2 \n",
      "1 2 3 \n",
      "1 2 3 4 \n",
      "1 2 3 4 5 \n"
     ]
    }
   ],
   "source": [
    "for i in range(1,6):\n",
    "    for j in range(1, i+1):\n",
    "        print(j, end=' ')\n",
    "    print('')"
   ]
  },
  {
   "cell_type": "code",
   "execution_count": 31,
   "id": "ce34c5a3",
   "metadata": {},
   "outputs": [
    {
     "name": "stdout",
     "output_type": "stream",
     "text": [
      "1 \n",
      "2 3 \n",
      "4 5 6 \n",
      "7 8 9 10 \n",
      "11 12 13 14 15 \n"
     ]
    }
   ],
   "source": [
    "x=1\n",
    "for i in range(1,6):\n",
    "    for j in range (1, i+1):\n",
    "        print(x, end=' ')\n",
    "        x+=1\n",
    "    print('')\n",
    "    "
   ]
  },
  {
   "cell_type": "code",
   "execution_count": 32,
   "id": "48bfc1d0",
   "metadata": {},
   "outputs": [
    {
     "data": {
      "text/plain": [
       "[10, 20, 20, 'abc']"
      ]
     },
     "execution_count": 32,
     "metadata": {},
     "output_type": "execute_result"
    }
   ],
   "source": [
    "#list\n",
    "mylist=[10,20,20,'abc']\n",
    "mylist"
   ]
  },
  {
   "cell_type": "code",
   "execution_count": 33,
   "id": "c19d4982",
   "metadata": {},
   "outputs": [
    {
     "name": "stdout",
     "output_type": "stream",
     "text": [
      "10\n",
      "20\n",
      "20\n",
      "abc\n"
     ]
    }
   ],
   "source": [
    "for i in mylist:\n",
    "    print(i)"
   ]
  },
  {
   "cell_type": "code",
   "execution_count": 34,
   "id": "8f9621fc",
   "metadata": {},
   "outputs": [
    {
     "data": {
      "text/plain": [
       "[10, 20, 20, 'abc', 90]"
      ]
     },
     "execution_count": 34,
     "metadata": {},
     "output_type": "execute_result"
    }
   ],
   "source": [
    "#to add element in the last\n",
    "\n",
    "mylist.append(90)\n",
    "mylist"
   ]
  },
  {
   "cell_type": "code",
   "execution_count": 36,
   "id": "6553f6b7",
   "metadata": {},
   "outputs": [
    {
     "data": {
      "text/plain": [
       "[10, 20, 20, 'abc', 90, 80, 100, 'oops']"
      ]
     },
     "execution_count": 36,
     "metadata": {},
     "output_type": "execute_result"
    }
   ],
   "source": [
    "#to add mutiple elements\n",
    "mylist.extend([80,100,'oops'])\n",
    "mylist"
   ]
  },
  {
   "cell_type": "code",
   "execution_count": 37,
   "id": "955df0e9",
   "metadata": {},
   "outputs": [
    {
     "data": {
      "text/plain": [
       "[10, 'Insert', 20, 20, 'abc', 90, 80, 100, 'oops']"
      ]
     },
     "execution_count": 37,
     "metadata": {},
     "output_type": "execute_result"
    }
   ],
   "source": [
    "#insert at any position\n",
    "mylist.insert(1,\"Insert\")\n",
    "mylist\n"
   ]
  },
  {
   "cell_type": "code",
   "execution_count": 38,
   "id": "c28e6e55",
   "metadata": {},
   "outputs": [
    {
     "data": {
      "text/plain": [
       "[10, 'Insert', 20, 20, 'abc', 90, 80, 100]"
      ]
     },
     "execution_count": 38,
     "metadata": {},
     "output_type": "execute_result"
    }
   ],
   "source": [
    "mylist.pop()\n",
    "mylist"
   ]
  },
  {
   "cell_type": "code",
   "execution_count": 39,
   "id": "0afe405b",
   "metadata": {},
   "outputs": [],
   "source": [
    "mylist.remove(90)"
   ]
  },
  {
   "cell_type": "code",
   "execution_count": 40,
   "id": "3685274d",
   "metadata": {},
   "outputs": [
    {
     "data": {
      "text/plain": [
       "[10, 'Insert', 20, 20, 'abc', 80, 100]"
      ]
     },
     "execution_count": 40,
     "metadata": {},
     "output_type": "execute_result"
    }
   ],
   "source": [
    "mylist"
   ]
  },
  {
   "cell_type": "code",
   "execution_count": 41,
   "id": "76c3ac62",
   "metadata": {},
   "outputs": [
    {
     "data": {
      "text/plain": [
       "tuple"
      ]
     },
     "execution_count": 41,
     "metadata": {},
     "output_type": "execute_result"
    }
   ],
   "source": [
    "x=1,2\n",
    "type(x)"
   ]
  },
  {
   "cell_type": "code",
   "execution_count": 42,
   "id": "cd2a8eb8",
   "metadata": {},
   "outputs": [],
   "source": [
    "#tuple is the only element that needs atleast two tuples\n"
   ]
  },
  {
   "cell_type": "code",
   "execution_count": 44,
   "id": "8b2dd016",
   "metadata": {},
   "outputs": [],
   "source": [
    "#dictionary\n",
    "mydictionary={\"name\":\"Jk\",\"age\":21, 99:\"Pune\"}"
   ]
  },
  {
   "cell_type": "code",
   "execution_count": 45,
   "id": "7bd19a3d",
   "metadata": {},
   "outputs": [
    {
     "ename": "KeyError",
     "evalue": "0",
     "output_type": "error",
     "traceback": [
      "\u001b[1;31m---------------------------------------------------------------------------\u001b[0m",
      "\u001b[1;31mKeyError\u001b[0m                                  Traceback (most recent call last)",
      "Input \u001b[1;32mIn [45]\u001b[0m, in \u001b[0;36m<cell line: 1>\u001b[1;34m()\u001b[0m\n\u001b[1;32m----> 1\u001b[0m \u001b[43mmydictionary\u001b[49m\u001b[43m[\u001b[49m\u001b[38;5;241;43m0\u001b[39;49m\u001b[43m]\u001b[49m\n",
      "\u001b[1;31mKeyError\u001b[0m: 0"
     ]
    }
   ],
   "source": [
    "#cannot find data using indexes\n",
    "mydictionary[0]"
   ]
  },
  {
   "cell_type": "code",
   "execution_count": 46,
   "id": "5e3fbe73",
   "metadata": {},
   "outputs": [
    {
     "data": {
      "text/plain": [
       "'Jk'"
      ]
     },
     "execution_count": 46,
     "metadata": {},
     "output_type": "execute_result"
    }
   ],
   "source": [
    "mydictionary['name']\n"
   ]
  },
  {
   "cell_type": "code",
   "execution_count": 48,
   "id": "074a6a9c",
   "metadata": {},
   "outputs": [
    {
     "name": "stdout",
     "output_type": "stream",
     "text": [
      "name {'name': 'Jk', 'age': 21, 99: 'Pune'}\n",
      "age {'name': 'Jk', 'age': 21, 99: 'Pune'}\n",
      "99 {'name': 'Jk', 'age': 21, 99: 'Pune'}\n"
     ]
    }
   ],
   "source": [
    "for key in mydictionary:\n",
    "    print(key, mydictionary)"
   ]
  },
  {
   "cell_type": "code",
   "execution_count": 49,
   "id": "ab63ea67",
   "metadata": {},
   "outputs": [
    {
     "data": {
      "text/plain": [
       "{10, 20, 30, 40}"
      ]
     },
     "execution_count": 49,
     "metadata": {},
     "output_type": "execute_result"
    }
   ],
   "source": [
    "#eleiminates the repeated data\n",
    "myset={10,20,30,40, 40}\n",
    "myset"
   ]
  },
  {
   "cell_type": "code",
   "execution_count": 50,
   "id": "cb1fd06c",
   "metadata": {},
   "outputs": [],
   "source": [
    "myset.add(1000)"
   ]
  },
  {
   "cell_type": "code",
   "execution_count": 52,
   "id": "2d956223",
   "metadata": {},
   "outputs": [
    {
     "data": {
      "text/plain": [
       "{10, 1000, 20, 30, 40, 'd', 'e', 'i', 'l', 'o', 't'}"
      ]
     },
     "execution_count": 52,
     "metadata": {},
     "output_type": "execute_result"
    }
   ],
   "source": [
    "myset.update(\"deloitte\")\n",
    "myset"
   ]
  },
  {
   "cell_type": "code",
   "execution_count": 53,
   "id": "0d6590c8",
   "metadata": {},
   "outputs": [
    {
     "data": {
      "text/plain": [
       "{10, 1000, 20, 30, 40, 'd', 'e', 'i', 'l', 'o'}"
      ]
     },
     "execution_count": 53,
     "metadata": {},
     "output_type": "execute_result"
    }
   ],
   "source": [
    "myset.remove('t')\n",
    "myset"
   ]
  },
  {
   "cell_type": "code",
   "execution_count": 66,
   "id": "bfb44efc",
   "metadata": {},
   "outputs": [
    {
     "name": "stdout",
     "output_type": "stream",
     "text": [
      "Enter Password asdfhlohbg3@\n"
     ]
    }
   ],
   "source": [
    "password = input(\"Enter Password \")\n",
    "digits='0123456789'\n",
    "sym = \"$@\"\n",
    "if len(password)>10:   \n",
    "    for i in password:\n",
    "        if(i in sym):\n",
    "            count_sym+=1\n",
    "        if(i.isupper()):\n",
    "            count_lower+=1\n",
    "        if(i.islower()):\n",
    "            count_upper+=1\n",
    "        if(i in digits):\n",
    "            count_digit+=1\n",
    "if (count_sym>=1 and count_lower>=1 and count_upper>=1 and count_digit>=1):\n",
    "    f=open('data.txt','w')\n",
    "    f.write(str(password))\n",
    "else:\n",
    "    print(\"Invalid Password\")\n",
    "        \n",
    "        "
   ]
  },
  {
   "cell_type": "code",
   "execution_count": 73,
   "id": "076565c9",
   "metadata": {},
   "outputs": [
    {
     "name": "stdout",
     "output_type": "stream",
     "text": [
      "Enter no. 3\n",
      "Enter no. 4\n",
      "12\n"
     ]
    }
   ],
   "source": [
    "def lcm(x,y):\n",
    "    if(x>y):\n",
    "        greater=x\n",
    "    else:\n",
    "        greater=y\n",
    "    while(True):\n",
    "        if((greater%x==0) and (greater%y==0)):\n",
    "            final=greater\n",
    "            break\n",
    "        greater +=1\n",
    "    return final\n",
    "        \n",
    "n1 = int(input(\"Enter no. \"))\n",
    "n2 = int(input(\"Enter no. \"))\n",
    "f=lcm(n1,n2)\n",
    "print(f)"
   ]
  },
  {
   "cell_type": "code",
   "execution_count": 74,
   "id": "22924ee8",
   "metadata": {},
   "outputs": [
    {
     "ename": "TypeError",
     "evalue": "Multiple() missing 2 required positional arguments: 'a' and 'b'",
     "output_type": "error",
     "traceback": [
      "\u001b[1;31m---------------------------------------------------------------------------\u001b[0m",
      "\u001b[1;31mTypeError\u001b[0m                                 Traceback (most recent call last)",
      "Input \u001b[1;32mIn [74]\u001b[0m, in \u001b[0;36m<cell line: 5>\u001b[1;34m()\u001b[0m\n\u001b[0;32m      2\u001b[0m     \u001b[38;5;28mprint\u001b[39m(a\u001b[38;5;241m*\u001b[39mb)\n\u001b[0;32m      4\u001b[0m abhi\u001b[38;5;241m=\u001b[39mMultiple\n\u001b[1;32m----> 5\u001b[0m \u001b[43mabhi\u001b[49m\u001b[43m(\u001b[49m\u001b[43m)\u001b[49m\n",
      "\u001b[1;31mTypeError\u001b[0m: Multiple() missing 2 required positional arguments: 'a' and 'b'"
     ]
    }
   ],
   "source": [
    "def Multiple(a,b):\n",
    "    print(a*b)\n",
    "    \n",
    "abhi=Multiple\n",
    "abhi()"
   ]
  },
  {
   "cell_type": "code",
   "execution_count": 1,
   "id": "4fd43f16",
   "metadata": {},
   "outputs": [
    {
     "ename": "TypeError",
     "evalue": "__init__() missing 6 required positional arguments: 'iD', 'first_name', 'last_name', 'email', 'salary', and 'percent'",
     "output_type": "error",
     "traceback": [
      "\u001b[1;31m---------------------------------------------------------------------------\u001b[0m",
      "\u001b[1;31mTypeError\u001b[0m                                 Traceback (most recent call last)",
      "Input \u001b[1;32mIn [1]\u001b[0m, in \u001b[0;36m<cell line: 16>\u001b[1;34m()\u001b[0m\n\u001b[0;32m     14\u001b[0m         \u001b[38;5;28mprint\u001b[39m(employee\u001b[38;5;241m.\u001b[39miD)\n\u001b[0;32m     15\u001b[0m         \u001b[38;5;28mprint\u001b[39m(\u001b[38;5;124mf\u001b[39m\u001b[38;5;124m\"\u001b[39m\u001b[38;5;124mHello Mr,/Ms. \u001b[39m\u001b[38;5;124m\"\u001b[39m,employee\u001b[38;5;241m.\u001b[39mfirst_name)\n\u001b[1;32m---> 16\u001b[0m name\u001b[38;5;241m=\u001b[39m\u001b[43mPrintt\u001b[49m\u001b[43m(\u001b[49m\u001b[43m)\u001b[49m\n\u001b[0;32m     17\u001b[0m name\u001b[38;5;241m.\u001b[39mv()\n",
      "\u001b[1;31mTypeError\u001b[0m: __init__() missing 6 required positional arguments: 'iD', 'first_name', 'last_name', 'email', 'salary', and 'percent'"
     ]
    }
   ],
   "source": [
    "class Employee:\n",
    "    def __init__(self,iD,first_name,last_name,email,salary,percent):\n",
    "        self.iD = iD\n",
    "        self.first_name = first_name\n",
    "        self.last_name=last_name\n",
    "        self.email=email\n",
    "        self.salary=salary\n",
    "        self.percent=percent\n",
    "\n",
    "employee=Employee(\"1\",\"Jasleen\",\"Kaur\",\"jk@gmail.com\",100000,8)\n",
    "\n",
    "class Printt(Employee):\n",
    "    def v():\n",
    "        print(employee.iD)\n",
    "        print(f\"Hello Mr,/Ms. \",employee.first_name)\n",
    "name=Printt()\n",
    "name.v()"
   ]
  },
  {
   "cell_type": "code",
   "execution_count": null,
   "id": "1cb6691a",
   "metadata": {},
   "outputs": [],
   "source": []
  }
 ],
 "metadata": {
  "kernelspec": {
   "display_name": "Python 3 (ipykernel)",
   "language": "python",
   "name": "python3"
  },
  "language_info": {
   "codemirror_mode": {
    "name": "ipython",
    "version": 3
   },
   "file_extension": ".py",
   "mimetype": "text/x-python",
   "name": "python",
   "nbconvert_exporter": "python",
   "pygments_lexer": "ipython3",
   "version": "3.9.12"
  }
 },
 "nbformat": 4,
 "nbformat_minor": 5
}
