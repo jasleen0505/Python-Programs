{
 "cells": [
  {
   "cell_type": "code",
   "execution_count": 3,
   "id": "90236650",
   "metadata": {},
   "outputs": [
    {
     "name": "stdout",
     "output_type": "stream",
     "text": [
      "<_io.TextIOWrapper name='data.txt' mode='r' encoding='cp1252'>\n",
      "File is open\n"
     ]
    }
   ],
   "source": [
    "#Basic fopen\n",
    "#file_oject = open(\"filename\",\"access mode\")\n",
    "file_data = open(\"data.txt\",\"r\")\n",
    "print(file_data)\n",
    "\n",
    "if file_data:\n",
    "    print(\"File is open\")\n",
    "\n",
    "file_data.close()"
   ]
  },
  {
   "cell_type": "code",
   "execution_count": 6,
   "id": "b7ffdeb8",
   "metadata": {},
   "outputs": [
    {
     "name": "stdout",
     "output_type": "stream",
     "text": [
      "8\n",
      "Even\n"
     ]
    }
   ],
   "source": [
    "#Even and opp program, if odd write to the txt file\n",
    "num = int(input())\n",
    "try:\n",
    "    assert(num>0),\"Negative number\"\n",
    "    if (num%2==0):\n",
    "        print(\"Even\")\n",
    "    else:\n",
    "        print(\"Odd\")\n",
    "    f=open('data.txt','w')\n",
    "    f.write(str(num))\n",
    "except ValueError: \n",
    "    print(\"Number less than 0\")\n",
    "finally:\n",
    "    f.close()\n",
    "    "
   ]
  },
  {
   "cell_type": "code",
   "execution_count": 11,
   "id": "6e54b70b",
   "metadata": {},
   "outputs": [
    {
     "name": "stdout",
     "output_type": "stream",
     "text": [
      "Enter Password asdgjjdgA@34\n"
     ]
    }
   ],
   "source": [
    "#validate a password, if validated write in the txt file\n",
    "count_sym, count_lower, count_upper, count_digit = 0,0,0,0\n",
    "password = input(\"Enter Password \")\n",
    "digits='0123456789'\n",
    "sym = \"$@\"\n",
    "if len(password)>10:   \n",
    "    for i in password:\n",
    "        if(i in sym):\n",
    "            count_sym+=1\n",
    "        if(i.isupper()):\n",
    "            count_upper+=1\n",
    "        if(i.islower()):\n",
    "            count_lower+=1\n",
    "        if(i in digits):\n",
    "            count_digit+=1\n",
    "if (count_sym>=1 and count_lower>=1 and count_upper>=1 and count_digit>=1):\n",
    "    f=open('data.txt','a')\n",
    "    f.write(str(password))\n",
    "else:\n",
    "    print(\"Invalid Password\")"
   ]
  },
  {
   "cell_type": "code",
   "execution_count": 13,
   "id": "3477ffc7",
   "metadata": {},
   "outputs": [],
   "source": [
    "#basic function\n",
    "class Student:\n",
    "    s_id = 1\n",
    "    s_name= \"jk\"\n",
    "    s_company= \"deloitte\"\n",
    "    def fun(self):\n",
    "        print(\"Id: \",self.s_id)\n",
    "        print(\"Name \",self.s_name)\n",
    "        print(\"Company \",self.s_company)\n",
    "\n",
    "iid=Student()\n",
    "nane=Student()\n",
    "company=Student()\n",
    "\n",
    "print()"
   ]
  },
  {
   "cell_type": "code",
   "execution_count": 17,
   "id": "2cf61a58",
   "metadata": {},
   "outputs": [
    {
     "name": "stdout",
     "output_type": "stream",
     "text": [
      "1\n",
      "Jasleen\n",
      "Deloitte\n"
     ]
    }
   ],
   "source": [
    "class Student:\n",
    "    def __init__(self,iD,name,company):\n",
    "        self.iD = iD\n",
    "        self.name = name\n",
    "        self.company = company\n",
    "\n",
    "student=Student(\"1\",\"Jasleen\",\"Deloitte\")\n",
    "print(student.iD)\n",
    "print(student.name)\n",
    "print(student.company)"
   ]
  },
  {
   "cell_type": "code",
   "execution_count": 2,
   "id": "461cbf5d",
   "metadata": {},
   "outputs": [],
   "source": [
    "class Driver:\n",
    "    def __init__(self, id, name, email, wallet):\n",
    "        self.id=id\n",
    "        self.name=name\n",
    "        self.email=email\n",
    "        self.wallet=wallet\n",
    "        \n",
    "    def info_data(self):\n",
    "        print(f\"Data is {self.id} {self.name} {self.email} {self.wallet}\")\n",
    "\n",
    "class Customer(Driver):\n",
    "    driver=Driver(\"1\",\"jk\",\"jk@gm\",\"500\")\n",
    "    def __init__(self,id,name,email,wallet,tripInfo):\n",
    "        super().__init__(id,name,email,wallet)\n",
    "        self.tripInfo=tripInfo\n",
    "        print(f\"Data is {self.id} {self.name} {self.email} {self.wallet} {self.tripInfo}\")"
   ]
  },
  {
   "cell_type": "code",
   "execution_count": 23,
   "id": "cbbdad7b",
   "metadata": {},
   "outputs": [
    {
     "name": "stdout",
     "output_type": "stream",
     "text": [
      "Human\n",
      "Human\n",
      "Super Human\n"
     ]
    }
   ],
   "source": [
    "#inheritance\n",
    "class Mammal:\n",
    "    def info(self):\n",
    "        print(\"Mammal\")\n",
    "class Human(Mammal):\n",
    "    def info(self):\n",
    "        print(\"Human\")\n",
    "class Super_human(Human):\n",
    "    def s_info(self):\n",
    "        print(\"Super Human\")\n",
    "\n",
    "n=Super_human()\n",
    "n.info()\n",
    "n.info()\n",
    "n.s_info()"
   ]
  },
  {
   "cell_type": "markdown",
   "id": "ac28e9f9",
   "metadata": {},
   "source": [
    "print(\"j\")"
   ]
  },
  {
   "cell_type": "code",
   "execution_count": 2,
   "id": "2f480471",
   "metadata": {},
   "outputs": [
    {
     "name": "stdout",
     "output_type": "stream",
     "text": [
      "80\n",
      "90\n",
      "HCF is  10\n"
     ]
    }
   ],
   "source": [
    "#hcf program\n",
    "def hcf(a,b):\n",
    "    if a>b:\n",
    "        smaller=b\n",
    "    else:\n",
    "        smaller=a\n",
    "    for i in range (1, smaller+1):\n",
    "        if((a%i==0)and(b%i==0)):\n",
    "            hcf=i\n",
    "    return hcf\n",
    "\n",
    "num1, num2= int(input()), int(input())\n",
    "print(f\"HCF is \", hcf(num1,num2))\n",
    "    "
   ]
  },
  {
   "cell_type": "code",
   "execution_count": null,
   "id": "e750a24f",
   "metadata": {},
   "outputs": [],
   "source": [
    "#print each index value of a program\n",
    "value = input(\"Enter a number \")\n",
    "value = int(value)\n",
    "print(type(value))\n",
    "if(value>60):\n",
    "    x=value//100\n",
    "    value=value%100\n",
    "    y=value//10\n",
    "    z=value%10\n",
    "    print(f\"The no. on 0 index is {x}, The no. on 1st index is {y}, The number on 2nd index is {z}\")\n",
    "else:\n",
    "    print(\"Less than 60\")"
   ]
  },
  {
   "cell_type": "code",
   "execution_count": null,
   "id": "c5fc55f7",
   "metadata": {},
   "outputs": [],
   "source": [
    "#pattern program\n",
    "for i in range(1,6):\n",
    "    for j in range(1, i+1):\n",
    "        print(j, end=' ')\n",
    "    print('')"
   ]
  },
  {
   "cell_type": "code",
   "execution_count": null,
   "id": "6e1d9be4",
   "metadata": {},
   "outputs": [],
   "source": [
    "#pattern Program\n",
    "x=1\n",
    "for i in range(1,6):\n",
    "    for j in range (1, i+1):\n",
    "        print(x, end=' ')\n",
    "        x+=1\n",
    "    print('')\n",
    "    "
   ]
  },
  {
   "cell_type": "code",
   "execution_count": null,
   "id": "f0b8d555",
   "metadata": {},
   "outputs": [],
   "source": [
    "#LCM program\n",
    "def lcm(x,y):\n",
    "    if(x>y):\n",
    "        greater=x\n",
    "    else:\n",
    "        greater=y\n",
    "    while(True):\n",
    "        if((greater%x==0) and (greater%y==0)):\n",
    "            final=greater\n",
    "            break\n",
    "        greater +=1\n",
    "    return final\n",
    "        \n",
    "n1 = int(input(\"Enter no. \"))\n",
    "n2 = int(input(\"Enter no. \"))\n",
    "f=lcm(n1,n2)\n",
    "print(f)"
   ]
  },
  {
   "cell_type": "code",
   "execution_count": null,
   "id": "6726fe6f",
   "metadata": {},
   "outputs": [],
   "source": []
  }
 ],
 "metadata": {
  "kernelspec": {
   "display_name": "Python 3 (ipykernel)",
   "language": "python",
   "name": "python3"
  },
  "language_info": {
   "codemirror_mode": {
    "name": "ipython",
    "version": 3
   },
   "file_extension": ".py",
   "mimetype": "text/x-python",
   "name": "python",
   "nbconvert_exporter": "python",
   "pygments_lexer": "ipython3",
   "version": "3.9.12"
  }
 },
 "nbformat": 4,
 "nbformat_minor": 5
}
